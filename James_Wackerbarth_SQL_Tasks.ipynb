{
 "cells": [
  {
   "cell_type": "code",
   "execution_count": 1,
   "metadata": {},
   "outputs": [],
   "source": [
    "import sqlite3\n",
    "from sqlite3 import Error\n",
    "import pandas as pd"
   ]
  },
  {
   "cell_type": "code",
   "execution_count": 2,
   "metadata": {},
   "outputs": [],
   "source": [
    "def create_connection(db_file):\n",
    "    \"\"\" create a database connection to the SQLite database\n",
    "        specified by the db_file\n",
    "    :param db_file: database file\n",
    "    :return: Connection object or None\n",
    "    \"\"\"\n",
    "    conn = None\n",
    "    try:\n",
    "        conn = sqlite3.connect(db_file)\n",
    "        print(sqlite3.version)\n",
    "    except Error as e:\n",
    "        print(e)\n",
    " \n",
    "    return conn"
   ]
  },
  {
   "cell_type": "code",
   "execution_count": 3,
   "metadata": {},
   "outputs": [],
   "source": [
    "def select_all_tasks(conn):\n",
    "    \"\"\"\n",
    "    Query all rows in the tasks table\n",
    "    :param conn: the Connection object\n",
    "    :return:\n",
    "    \"\"\"\n",
    "    cur = conn.cursor()\n",
    "    \n",
    "    query1 = \"\"\"\n",
    "        SELECT *\n",
    "        FROM FACILITIES\n",
    "        \"\"\"\n",
    "    cur.execute(query1)\n",
    " \n",
    "    rows = cur.fetchall()\n",
    " \n",
    "    for row in rows:\n",
    "        print(row)"
   ]
  },
  {
   "cell_type": "code",
   "execution_count": 4,
   "metadata": {},
   "outputs": [
    {
     "name": "stdout",
     "output_type": "stream",
     "text": [
      "2.6.0\n",
      "2. Query all tasks\n",
      "(0, 'Tennis Court 1', 5, 25, 10000, 200)\n",
      "(1, 'Tennis Court 2', 5, 25, 8000, 200)\n",
      "(2, 'Badminton Court', 0, 15.5, 4000, 50)\n",
      "(3, 'Table Tennis', 0, 5, 320, 10)\n",
      "(4, 'Massage Room 1', 9.9, 80, 4000, 3000)\n",
      "(5, 'Massage Room 2', 9.9, 80, 4000, 3000)\n",
      "(6, 'Squash Court', 3.5, 17.5, 5000, 80)\n",
      "(7, 'Snooker Table', 0, 5, 450, 15)\n",
      "(8, 'Pool Table', 0, 5, 400, 15)\n"
     ]
    }
   ],
   "source": [
    "database = \"sqlite_db_pythonsqlite.db\"\n",
    "\n",
    "# create a database connection\n",
    "conn = create_connection(database)\n",
    "with conn: \n",
    "    print(\"2. Query all tasks\")\n",
    "    select_all_tasks(conn)"
   ]
  },
  {
   "cell_type": "code",
   "execution_count": 5,
   "metadata": {},
   "outputs": [],
   "source": [
    "#Q10: Produce a list of facilities with a total revenue less than 1000. The output of facility name and total revenue, sorted by revenue. Remember that there's a different cost for guests and members\n",
    "def select_all_tasks1(conn):\n",
    "    \"\"\"\n",
    "    Query all rows in the tasks table\n",
    "    :param conn: the Connection object\n",
    "    :return:\n",
    "    \"\"\"\n",
    "    cur = conn.cursor()\n",
    "    \n",
    "    query1 = \"\"\"\n",
    "    SELECT f2.name, s2.Revenue\n",
    "    FROM Facilities as f2\n",
    "    LEFT JOIN\n",
    "        (SELECT f1.facid, f1.name, SUM(s.total_cost) as Revenue\n",
    "        FROM Facilities as f1\n",
    "        LEFT JOIN\n",
    "            (SELECT b.bookid, f.facid, m.memid,f.guestcost, f.membercost, b.slots,\n",
    "            CASE WHEN m.memid = 0 THEN (f.guestcost * b.slots) \n",
    "            ELSE (f.membercost * b.slots) END AS total_cost\n",
    "            FROM Bookings AS b\n",
    "            INNER JOIN Facilities AS f ON b.facid = f.facid\n",
    "            INNER JOIN Members AS m ON b.memid = m.memid) as s\n",
    "        ON f1.facid = s.facid\n",
    "        GROUP BY f1.name) as s2\n",
    "    ON f2.facid = s2.facid\n",
    "    WHERE s2.Revenue < 1000\n",
    "    ORDER BY Revenue DESC\n",
    "        \"\"\"\n",
    "    cur.execute(query1)\n",
    " \n",
    "    rows = cur.fetchall()\n",
    " \n",
    "    for row in rows:\n",
    "        print(row)"
   ]
  },
  {
   "cell_type": "code",
   "execution_count": 6,
   "metadata": {},
   "outputs": [
    {
     "name": "stdout",
     "output_type": "stream",
     "text": [
      "2.6.0\n",
      "2. Query all tasks\n",
      "('Pool Table', 270)\n",
      "('Snooker Table', 240)\n",
      "('Table Tennis', 180)\n"
     ]
    }
   ],
   "source": [
    "conn = create_connection(database)\n",
    "with conn: \n",
    "    print(\"2. Query all tasks\")\n",
    "    select_all_tasks1(conn)"
   ]
  },
  {
   "cell_type": "code",
   "execution_count": 7,
   "metadata": {},
   "outputs": [],
   "source": [
    "#Q11: Produce a report of members and who recommended them in alphabetic surname,firstname order\n",
    "def select_all_tasks11(conn):\n",
    "    \"\"\"\n",
    "    Query all rows in the tasks table\n",
    "    :param conn: the Connection object\n",
    "    :return:\n",
    "    \"\"\"\n",
    "    cur = conn.cursor()\n",
    "    \n",
    "    query1 = \"\"\"\n",
    "    SELECT m1.surname AS Member_Last_Name, m1.firstname AS Member_First_Name, \n",
    "    CASE WHEN m2.memid = 0 THEN ''\n",
    "    ELSE m2.surname END as Recommended_By_Surname, \n",
    "    CASE WHEN m2.memid = 0 THEN ''\n",
    "    ELSE m2.firstname END as Recommended_By_Firstname\n",
    "    FROM Members as m1\n",
    "    LEFT JOIN Members as m2\n",
    "    ON m1.recommendedby = m2.memid\n",
    "    WHERE m1.memid != 0\n",
    "    ORDER BY Member_Last_Name\n",
    "        \"\"\"\n",
    "    cur.execute(query1)\n",
    " \n",
    "    rows = cur.fetchall()\n",
    "    \n",
    "    df = pd.DataFrame(rows)\n",
    "    df.columns = ['Member_Last_Name','Member_First_Name','Recommended_By_Last_Name','Recommended_By_First_Name']"
   ]
  },
  {
   "cell_type": "code",
   "execution_count": 8,
   "metadata": {},
   "outputs": [
    {
     "name": "stdout",
     "output_type": "stream",
     "text": [
      "2.6.0\n",
      "2. Query all tasks\n",
      "('Bader', 'Florence', 'Stibbons', 'Ponder')\n",
      "('Baker', 'Anne', 'Stibbons', 'Ponder')\n",
      "('Baker', 'Timothy', 'Farrell', 'Jemima')\n",
      "('Boothe', 'Tim', 'Rownam', 'Tim')\n",
      "('Butters', 'Gerald', 'Smith', 'Darren')\n",
      "('Coplin', 'Joan', 'Baker', 'Timothy')\n",
      "('Crumpet', 'Erica', 'Smith', 'Tracy')\n",
      "('Dare', 'Nancy', 'Joplette', 'Janice')\n",
      "('Farrell', 'Jemima', None, None)\n",
      "('Farrell', 'David', None, None)\n",
      "('Genting', 'Matthew', 'Butters', 'Gerald')\n",
      "('Hunt', 'John', 'Purview', 'Millicent')\n",
      "('Jones', 'David', 'Joplette', 'Janice')\n",
      "('Jones', 'Douglas', 'Jones', 'David')\n",
      "('Joplette', 'Janice', 'Smith', 'Darren')\n",
      "('Mackenzie', 'Anna', 'Smith', 'Darren')\n",
      "('Owen', 'Charles', 'Smith', 'Darren')\n",
      "('Pinker', 'David', 'Farrell', 'Jemima')\n",
      "('Purview', 'Millicent', 'Smith', 'Tracy')\n",
      "('Rownam', 'Tim', None, None)\n",
      "('Rumney', 'Henrietta', 'Genting', 'Matthew')\n",
      "('Sarwin', 'Ramnaresh', 'Bader', 'Florence')\n",
      "('Smith', 'Darren', None, None)\n",
      "('Smith', 'Tracy', None, None)\n",
      "('Smith', 'Jack', 'Smith', 'Darren')\n",
      "('Smith', 'Darren', None, None)\n",
      "('Stibbons', 'Ponder', 'Tracy', 'Burton')\n",
      "('Tracy', 'Burton', None, None)\n",
      "('Tupperware', 'Hyacinth', None, None)\n",
      "('Worthington-Smyth', 'Henry', 'Smith', 'Tracy')\n"
     ]
    }
   ],
   "source": [
    "conn = create_connection(database)\n",
    "with conn: \n",
    "    print(\"2. Query all tasks\")\n",
    "    select_all_tasks11(conn)"
   ]
  },
  {
   "cell_type": "code",
   "execution_count": 28,
   "metadata": {},
   "outputs": [],
   "source": [
    "#Q12: Find the facilities with their usage by member, but not guests \n",
    "def select_all_tasks112(conn):\n",
    "    \"\"\"\n",
    "    Query all rows in the tasks table\n",
    "    :param conn: the Connection object\n",
    "    :return:\n",
    "    \"\"\"\n",
    "    cur = conn.cursor()\n",
    "    \n",
    "    query1 = \"\"\"\n",
    "SELECT f.name as Facility, (m. firstname || ' ' || m.surname) as Member_name, COUNT(f.facid) as Usage\n",
    "FROM Facilities as f\n",
    "INNER JOIN Members as m\n",
    "WHERE m.memid !=0\n",
    "GROUP BY Facility, Member_name\n",
    "      \"\"\"\n",
    "\n",
    "    cur.execute(query1)\n",
    " \n",
    "    rows = cur.fetchall()\n",
    "    \n",
    "    df = pd.DataFrame(rows)\n",
    "    df.columns = ['Facility','Member_Name','Usage']\n",
    "    \n",
    "    print(df)\n"
   ]
  },
  {
   "cell_type": "code",
   "execution_count": 29,
   "metadata": {},
   "outputs": [
    {
     "name": "stdout",
     "output_type": "stream",
     "text": [
      "2.6.0\n",
      "2. Query all tasks\n",
      "            Facility       Member_Name  Usage\n",
      "0    Badminton Court    Anna Mackenzie      1\n",
      "1    Badminton Court        Anne Baker      1\n",
      "2    Badminton Court      Burton Tracy      1\n",
      "3    Badminton Court      Charles Owen      1\n",
      "4    Badminton Court      Darren Smith      2\n",
      "..               ...               ...    ...\n",
      "256   Tennis Court 2  Ramnaresh Sarwin      1\n",
      "257   Tennis Court 2        Tim Boothe      1\n",
      "258   Tennis Court 2        Tim Rownam      1\n",
      "259   Tennis Court 2     Timothy Baker      1\n",
      "260   Tennis Court 2       Tracy Smith      1\n",
      "\n",
      "[261 rows x 3 columns]\n"
     ]
    }
   ],
   "source": [
    "conn = create_connection(database)\n",
    "with conn: \n",
    "    print(\"2. Query all tasks\")\n",
    "    select_all_tasks112(conn)"
   ]
  },
  {
   "cell_type": "code",
   "execution_count": 43,
   "metadata": {},
   "outputs": [],
   "source": [
    "#Q13: Find the facilities usage by month, but not guests\n",
    "def select_all_tasks113(conn):\n",
    "    \"\"\"\n",
    "    Query all rows in the tasks table\n",
    "    :param conn: the Connection object\n",
    "    :return:\n",
    "    \"\"\"\n",
    "    cur = conn.cursor()\n",
    "    \n",
    "    query1 = \"\"\"\n",
    "SELECT f.name as Facility, s.bookmonth as Month, COUNT(s.bookid)\n",
    "FROM Facilities as f\n",
    "INNER JOIN \n",
    "    (SELECT b.bookid, strftime('%m', b.starttime) as bookmonth, b.facid\n",
    "    FROM Bookings as b\n",
    "    INNER JOIN Members as m\n",
    "    WHERE m.memid != 0) as s\n",
    "ON f.facid = s.facid\n",
    "GROUP BY Facility, Month\n",
    "\n",
    "      \"\"\"\n",
    "\n",
    "    cur.execute(query1)\n",
    " \n",
    "    rows = cur.fetchall()\n",
    "    \n",
    "    df = pd.DataFrame(rows)\n",
    "    df.columns = ['Facility','Month','Usage']\n",
    "    \n",
    "    print(df)\n"
   ]
  },
  {
   "cell_type": "code",
   "execution_count": 44,
   "metadata": {},
   "outputs": [
    {
     "name": "stdout",
     "output_type": "stream",
     "text": [
      "2.6.0\n",
      "2. Query all tasks\n",
      "           Facility Month  Usage\n",
      "0   Badminton Court    07   1680\n",
      "1   Badminton Court    08   4380\n",
      "2   Badminton Court    09   5430\n",
      "3    Massage Room 1    07   3690\n",
      "4    Massage Room 1    08   6720\n",
      "5    Massage Room 1    09   8460\n",
      "6    Massage Room 2    07    360\n",
      "7    Massage Room 2    08   1200\n",
      "8    Massage Room 2    09   1770\n",
      "9        Pool Table    07   3300\n",
      "10       Pool Table    08   8730\n",
      "11       Pool Table    09  13050\n",
      "12    Snooker Table    07   2250\n",
      "13    Snooker Table    08   4770\n",
      "14    Snooker Table    09   6300\n",
      "15     Squash Court    07   2250\n",
      "16     Squash Court    08   5100\n",
      "17     Squash Court    09   5850\n",
      "18     Table Tennis    07   1530\n",
      "19     Table Tennis    08   4410\n",
      "20     Table Tennis    09   6150\n",
      "21   Tennis Court 1    07   2640\n",
      "22   Tennis Court 1    08   4380\n",
      "23   Tennis Court 1    09   5220\n",
      "24   Tennis Court 2    07   2040\n",
      "25   Tennis Court 2    08   4470\n",
      "26   Tennis Court 2    09   5160\n"
     ]
    }
   ],
   "source": [
    "conn = create_connection(database)\n",
    "with conn: \n",
    "    print(\"2. Query all tasks\")\n",
    "    select_all_tasks113(conn)"
   ]
  },
  {
   "cell_type": "code",
   "execution_count": null,
   "metadata": {},
   "outputs": [],
   "source": []
  }
 ],
 "metadata": {
  "kernelspec": {
   "display_name": "Python 3",
   "language": "python",
   "name": "python3"
  },
  "language_info": {
   "codemirror_mode": {
    "name": "ipython",
    "version": 3
   },
   "file_extension": ".py",
   "mimetype": "text/x-python",
   "name": "python",
   "nbconvert_exporter": "python",
   "pygments_lexer": "ipython3",
   "version": "3.7.4"
  }
 },
 "nbformat": 4,
 "nbformat_minor": 4
}
