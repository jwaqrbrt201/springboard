{
 "cells": [
  {
   "cell_type": "markdown",
   "metadata": {},
   "source": [
    "I found a dataset of hourly energy consumption from my local provider on Kaggle. I wanted to know:\n",
    "\n",
    "1. Is energy consumption increasing, decreasing or static over time?\n",
    "2. Are there any interesting events that create spikes or drops in consumption?"
   ]
  },
  {
   "cell_type": "code",
   "execution_count": 1,
   "metadata": {},
   "outputs": [],
   "source": [
    "# I imported the necessary libraries\n",
    "import pandas as pd\n",
    "import numpy as np\n",
    "import seaborn as sns\n",
    "import matplotlib.pyplot as plt"
   ]
  },
  {
   "cell_type": "code",
   "execution_count": 2,
   "metadata": {},
   "outputs": [],
   "source": [
    "# I read in the dataset\n",
    "df = pd.read_csv('Hourly_Energy.csv')"
   ]
  },
  {
   "cell_type": "markdown",
   "metadata": {},
   "source": [
    "I examined it, converted the Datetime field to a Datetime object,then created new features: month, year, hour and weekday."
   ]
  },
  {
   "cell_type": "code",
   "execution_count": 3,
   "metadata": {},
   "outputs": [
    {
     "data": {
      "text/html": [
       "<div>\n",
       "<style scoped>\n",
       "    .dataframe tbody tr th:only-of-type {\n",
       "        vertical-align: middle;\n",
       "    }\n",
       "\n",
       "    .dataframe tbody tr th {\n",
       "        vertical-align: top;\n",
       "    }\n",
       "\n",
       "    .dataframe thead th {\n",
       "        text-align: right;\n",
       "    }\n",
       "</style>\n",
       "<table border=\"1\" class=\"dataframe\">\n",
       "  <thead>\n",
       "    <tr style=\"text-align: right;\">\n",
       "      <th></th>\n",
       "      <th>Datetime</th>\n",
       "      <th>DOM_MW</th>\n",
       "    </tr>\n",
       "  </thead>\n",
       "  <tbody>\n",
       "    <tr>\n",
       "      <th>0</th>\n",
       "      <td>12/31/2005 1:00</td>\n",
       "      <td>9389</td>\n",
       "    </tr>\n",
       "    <tr>\n",
       "      <th>1</th>\n",
       "      <td>12/31/2005 2:00</td>\n",
       "      <td>9070</td>\n",
       "    </tr>\n",
       "    <tr>\n",
       "      <th>2</th>\n",
       "      <td>12/31/2005 3:00</td>\n",
       "      <td>9001</td>\n",
       "    </tr>\n",
       "    <tr>\n",
       "      <th>3</th>\n",
       "      <td>12/31/2005 4:00</td>\n",
       "      <td>9042</td>\n",
       "    </tr>\n",
       "    <tr>\n",
       "      <th>4</th>\n",
       "      <td>12/31/2005 5:00</td>\n",
       "      <td>9132</td>\n",
       "    </tr>\n",
       "  </tbody>\n",
       "</table>\n",
       "</div>"
      ],
      "text/plain": [
       "          Datetime  DOM_MW\n",
       "0  12/31/2005 1:00    9389\n",
       "1  12/31/2005 2:00    9070\n",
       "2  12/31/2005 3:00    9001\n",
       "3  12/31/2005 4:00    9042\n",
       "4  12/31/2005 5:00    9132"
      ]
     },
     "execution_count": 3,
     "metadata": {},
     "output_type": "execute_result"
    }
   ],
   "source": [
    "df.head()"
   ]
  },
  {
   "cell_type": "code",
   "execution_count": 4,
   "metadata": {},
   "outputs": [
    {
     "name": "stdout",
     "output_type": "stream",
     "text": [
      "<class 'pandas.core.frame.DataFrame'>\n",
      "RangeIndex: 116189 entries, 0 to 116188\n",
      "Data columns (total 2 columns):\n",
      " #   Column    Non-Null Count   Dtype \n",
      "---  ------    --------------   ----- \n",
      " 0   Datetime  116189 non-null  object\n",
      " 1   DOM_MW    116189 non-null  int64 \n",
      "dtypes: int64(1), object(1)\n",
      "memory usage: 1.8+ MB\n"
     ]
    }
   ],
   "source": [
    "df.info()"
   ]
  },
  {
   "cell_type": "code",
   "execution_count": 5,
   "metadata": {},
   "outputs": [],
   "source": [
    "df['Datetime'] = pd.to_datetime(df.Datetime)"
   ]
  },
  {
   "cell_type": "code",
   "execution_count": 6,
   "metadata": {},
   "outputs": [],
   "source": [
    "df['Month'] = df.Datetime.dt.month\n",
    "df['Year'] = df.Datetime.dt.year\n",
    "df['Hour'] = df.Datetime.dt.hour\n",
    "df['Day'] = df.Datetime.dt.day\n",
    "df['Weekday'] = df.Datetime.dt.weekday"
   ]
  },
  {
   "cell_type": "code",
   "execution_count": 7,
   "metadata": {},
   "outputs": [],
   "source": [
    "df = df.set_index('Datetime')"
   ]
  },
  {
   "cell_type": "code",
   "execution_count": 8,
   "metadata": {},
   "outputs": [
    {
     "data": {
      "text/plain": [
       "<matplotlib.axes._subplots.AxesSubplot at 0x2b54b6fa788>"
      ]
     },
     "execution_count": 8,
     "metadata": {},
     "output_type": "execute_result"
    },
    {
     "data": {
      "image/png": "[encoded data removed]",
      "text/plain": [
       "<Figure size 432x288 with 1 Axes>"
      ]
     },
     "metadata": {
      "needs_background": "light"
     },
     "output_type": "display_data"
    }
   ],
   "source": [
    "df.DOM_MW.plot()"
   ]
  },
  {
   "cell_type": "code",
   "execution_count": 9,
   "metadata": {},
   "outputs": [
    {
     "data": {
      "text/html": [
       "<div>\n",
       "<style scoped>\n",
       "    .dataframe tbody tr th:only-of-type {\n",
       "        vertical-align: middle;\n",
       "    }\n",
       "\n",
       "    .dataframe tbody tr th {\n",
       "        vertical-align: top;\n",
       "    }\n",
       "\n",
       "    .dataframe thead th {\n",
       "        text-align: right;\n",
       "    }\n",
       "</style>\n",
       "<table border=\"1\" class=\"dataframe\">\n",
       "  <thead>\n",
       "    <tr style=\"text-align: right;\">\n",
       "      <th></th>\n",
       "      <th>DOM_MW</th>\n",
       "      <th>Month</th>\n",
       "      <th>Year</th>\n",
       "      <th>Hour</th>\n",
       "      <th>Day</th>\n",
       "      <th>Weekday</th>\n",
       "    </tr>\n",
       "    <tr>\n",
       "      <th>Datetime</th>\n",
       "      <th></th>\n",
       "      <th></th>\n",
       "      <th></th>\n",
       "      <th></th>\n",
       "      <th></th>\n",
       "      <th></th>\n",
       "    </tr>\n",
       "  </thead>\n",
       "  <tbody>\n",
       "    <tr>\n",
       "      <th>2009-12-12</th>\n",
       "      <td>1253</td>\n",
       "      <td>12</td>\n",
       "      <td>2009</td>\n",
       "      <td>0</td>\n",
       "      <td>12</td>\n",
       "      <td>5</td>\n",
       "    </tr>\n",
       "  </tbody>\n",
       "</table>\n",
       "</div>"
      ],
      "text/plain": [
       "            DOM_MW  Month  Year  Hour  Day  Weekday\n",
       "Datetime                                           \n",
       "2009-12-12    1253     12  2009     0   12        5"
      ]
     },
     "execution_count": 9,
     "metadata": {},
     "output_type": "execute_result"
    }
   ],
   "source": [
    "df[df.DOM_MW == df.DOM_MW.min()]"
   ]
  },
  {
   "cell_type": "markdown",
   "metadata": {},
   "source": [
    "There is an extreme low outlier on December 12, 2009 at midnight. Google searches did not yield any results. Was there an outage at that time? Since it does not appear to be part of a larger trend, I will ignore this point for the rest of the data exploration."
   ]
  },
  {
   "cell_type": "markdown",
   "metadata": {},
   "source": [
    "I wanted to know: How does energy consumption change per month, per year, per day of the week, or per hour of the day? "
   ]
  },
  {
   "cell_type": "code",
   "execution_count": 10,
   "metadata": {},
   "outputs": [
    {
     "data": {
      "image/png": "[encoded data removed]",
      "text/plain": [
       "<Figure size 432x288 with 1 Axes>"
      ]
     },
     "metadata": {
      "needs_background": "light"
     },
     "output_type": "display_data"
    }
   ],
   "source": [
    "ax = sns.boxplot(x=\"Month\", y=\"DOM_MW\", data=df)"
   ]
  },
  {
   "cell_type": "code",
   "execution_count": 11,
   "metadata": {},
   "outputs": [
    {
     "data": {
      "image/png": "[encoded data removed]",
      "text/plain": [
       "<Figure size 432x288 with 1 Axes>"
      ]
     },
     "metadata": {
      "needs_background": "light"
     },
     "output_type": "display_data"
    }
   ],
   "source": [
    "ax2 = sns.boxplot(x=\"Year\", y=\"DOM_MW\", data=df)"
   ]
  },
  {
   "cell_type": "code",
   "execution_count": 12,
   "metadata": {},
   "outputs": [
    {
     "data": {
      "image/png": "[encoded data removed]",
      "text/plain": [
       "<Figure size 432x288 with 1 Axes>"
      ]
     },
     "metadata": {
      "needs_background": "light"
     },
     "output_type": "display_data"
    }
   ],
   "source": [
    "ax3 = sns.boxplot(x=\"Weekday\", y=\"DOM_MW\", data=df)"
   ]
  },
  {
   "cell_type": "code",
   "execution_count": 13,
   "metadata": {},
   "outputs": [
    {
     "data": {
      "text/plain": [
       "<matplotlib.axes._subplots.AxesSubplot at 0x2b54f398f08>"
      ]
     },
     "execution_count": 13,
     "metadata": {},
     "output_type": "execute_result"
    },
    {
     "data": {
      "image/png": "[encoded data removed]",
      "text/plain": [
       "<Figure size 432x288 with 1 Axes>"
      ]
     },
     "metadata": {
      "needs_background": "light"
     },
     "output_type": "display_data"
    }
   ],
   "source": [
    "sns.boxplot(x=\"Hour\", y=\"DOM_MW\", data=df)\n"
   ]
  },
  {
   "cell_type": "markdown",
   "metadata": {},
   "source": [
    "The boxplot of the hourly consumption shows that between midnight and midday, there are large numbers of outliers, and that the overall range is wider during this time of day. I created a pivot table and calculated the maximum and minimum values per hour of day and the difference between maximum and minimum."
   ]
  },
  {
   "cell_type": "code",
   "execution_count": 14,
   "metadata": {},
   "outputs": [],
   "source": [
    "pivotmm = pd.pivot_table(data=df,index='Hour', values='DOM_MW', aggfunc=['max','min'])"
   ]
  },
  {
   "cell_type": "code",
   "execution_count": 15,
   "metadata": {},
   "outputs": [
    {
     "data": {
      "text/html": [
       "<div>\n",
       "<style scoped>\n",
       "    .dataframe tbody tr th:only-of-type {\n",
       "        vertical-align: middle;\n",
       "    }\n",
       "\n",
       "    .dataframe tbody tr th {\n",
       "        vertical-align: top;\n",
       "    }\n",
       "\n",
       "    .dataframe thead tr th {\n",
       "        text-align: left;\n",
       "    }\n",
       "\n",
       "    .dataframe thead tr:last-of-type th {\n",
       "        text-align: right;\n",
       "    }\n",
       "</style>\n",
       "<table border=\"1\" class=\"dataframe\">\n",
       "  <thead>\n",
       "    <tr>\n",
       "      <th></th>\n",
       "      <th>max</th>\n",
       "      <th>min</th>\n",
       "    </tr>\n",
       "    <tr>\n",
       "      <th></th>\n",
       "      <th>DOM_MW</th>\n",
       "      <th>DOM_MW</th>\n",
       "    </tr>\n",
       "    <tr>\n",
       "      <th>Hour</th>\n",
       "      <th></th>\n",
       "      <th></th>\n",
       "    </tr>\n",
       "  </thead>\n",
       "  <tbody>\n",
       "    <tr>\n",
       "      <th>0</th>\n",
       "      <td>19275</td>\n",
       "      <td>1253</td>\n",
       "    </tr>\n",
       "    <tr>\n",
       "      <th>1</th>\n",
       "      <td>19268</td>\n",
       "      <td>6345</td>\n",
       "    </tr>\n",
       "    <tr>\n",
       "      <th>2</th>\n",
       "      <td>19433</td>\n",
       "      <td>5929</td>\n",
       "    </tr>\n",
       "    <tr>\n",
       "      <th>3</th>\n",
       "      <td>19603</td>\n",
       "      <td>5705</td>\n",
       "    </tr>\n",
       "    <tr>\n",
       "      <th>4</th>\n",
       "      <td>19813</td>\n",
       "      <td>5522</td>\n",
       "    </tr>\n",
       "    <tr>\n",
       "      <th>5</th>\n",
       "      <td>20136</td>\n",
       "      <td>5518</td>\n",
       "    </tr>\n",
       "    <tr>\n",
       "      <th>6</th>\n",
       "      <td>20532</td>\n",
       "      <td>5595</td>\n",
       "    </tr>\n",
       "    <tr>\n",
       "      <th>7</th>\n",
       "      <td>21324</td>\n",
       "      <td>5680</td>\n",
       "    </tr>\n",
       "    <tr>\n",
       "      <th>8</th>\n",
       "      <td>21651</td>\n",
       "      <td>5894</td>\n",
       "    </tr>\n",
       "    <tr>\n",
       "      <th>9</th>\n",
       "      <td>21037</td>\n",
       "      <td>6469</td>\n",
       "    </tr>\n",
       "    <tr>\n",
       "      <th>10</th>\n",
       "      <td>20089</td>\n",
       "      <td>7303</td>\n",
       "    </tr>\n",
       "    <tr>\n",
       "      <th>11</th>\n",
       "      <td>19392</td>\n",
       "      <td>8072</td>\n",
       "    </tr>\n",
       "    <tr>\n",
       "      <th>12</th>\n",
       "      <td>18635</td>\n",
       "      <td>8188</td>\n",
       "    </tr>\n",
       "    <tr>\n",
       "      <th>13</th>\n",
       "      <td>19268</td>\n",
       "      <td>8223</td>\n",
       "    </tr>\n",
       "    <tr>\n",
       "      <th>14</th>\n",
       "      <td>19664</td>\n",
       "      <td>8132</td>\n",
       "    </tr>\n",
       "    <tr>\n",
       "      <th>15</th>\n",
       "      <td>19871</td>\n",
       "      <td>8016</td>\n",
       "    </tr>\n",
       "    <tr>\n",
       "      <th>16</th>\n",
       "      <td>20061</td>\n",
       "      <td>7953</td>\n",
       "    </tr>\n",
       "    <tr>\n",
       "      <th>17</th>\n",
       "      <td>20037</td>\n",
       "      <td>7919</td>\n",
       "    </tr>\n",
       "    <tr>\n",
       "      <th>18</th>\n",
       "      <td>19649</td>\n",
       "      <td>7914</td>\n",
       "    </tr>\n",
       "    <tr>\n",
       "      <th>19</th>\n",
       "      <td>19816</td>\n",
       "      <td>8014</td>\n",
       "    </tr>\n",
       "    <tr>\n",
       "      <th>20</th>\n",
       "      <td>19930</td>\n",
       "      <td>7390</td>\n",
       "    </tr>\n",
       "    <tr>\n",
       "      <th>21</th>\n",
       "      <td>19971</td>\n",
       "      <td>8389</td>\n",
       "    </tr>\n",
       "    <tr>\n",
       "      <th>22</th>\n",
       "      <td>20588</td>\n",
       "      <td>7939</td>\n",
       "    </tr>\n",
       "    <tr>\n",
       "      <th>23</th>\n",
       "      <td>19461</td>\n",
       "      <td>7424</td>\n",
       "    </tr>\n",
       "  </tbody>\n",
       "</table>\n",
       "</div>"
      ],
      "text/plain": [
       "        max    min\n",
       "     DOM_MW DOM_MW\n",
       "Hour              \n",
       "0     19275   1253\n",
       "1     19268   6345\n",
       "2     19433   5929\n",
       "3     19603   5705\n",
       "4     19813   5522\n",
       "5     20136   5518\n",
       "6     20532   5595\n",
       "7     21324   5680\n",
       "8     21651   5894\n",
       "9     21037   6469\n",
       "10    20089   7303\n",
       "11    19392   8072\n",
       "12    18635   8188\n",
       "13    19268   8223\n",
       "14    19664   8132\n",
       "15    19871   8016\n",
       "16    20061   7953\n",
       "17    20037   7919\n",
       "18    19649   7914\n",
       "19    19816   8014\n",
       "20    19930   7390\n",
       "21    19971   8389\n",
       "22    20588   7939\n",
       "23    19461   7424"
      ]
     },
     "execution_count": 15,
     "metadata": {},
     "output_type": "execute_result"
    }
   ],
   "source": [
    "pivotmm"
   ]
  },
  {
   "cell_type": "code",
   "execution_count": 16,
   "metadata": {},
   "outputs": [],
   "source": [
    "pivotmm['Max-Min'] = pivotmm.iloc[:,0] - pivotmm.iloc[:,1]"
   ]
  },
  {
   "cell_type": "code",
   "execution_count": 17,
   "metadata": {},
   "outputs": [
    {
     "data": {
      "text/html": [
       "<div>\n",
       "<style scoped>\n",
       "    .dataframe tbody tr th:only-of-type {\n",
       "        vertical-align: middle;\n",
       "    }\n",
       "\n",
       "    .dataframe tbody tr th {\n",
       "        vertical-align: top;\n",
       "    }\n",
       "\n",
       "    .dataframe thead tr th {\n",
       "        text-align: left;\n",
       "    }\n",
       "\n",
       "    .dataframe thead tr:last-of-type th {\n",
       "        text-align: right;\n",
       "    }\n",
       "</style>\n",
       "<table border=\"1\" class=\"dataframe\">\n",
       "  <thead>\n",
       "    <tr>\n",
       "      <th></th>\n",
       "      <th>max</th>\n",
       "      <th>min</th>\n",
       "      <th>Max-Min</th>\n",
       "    </tr>\n",
       "    <tr>\n",
       "      <th></th>\n",
       "      <th>DOM_MW</th>\n",
       "      <th>DOM_MW</th>\n",
       "      <th></th>\n",
       "    </tr>\n",
       "    <tr>\n",
       "      <th>Hour</th>\n",
       "      <th></th>\n",
       "      <th></th>\n",
       "      <th></th>\n",
       "    </tr>\n",
       "  </thead>\n",
       "  <tbody>\n",
       "    <tr>\n",
       "      <th>0</th>\n",
       "      <td>19275</td>\n",
       "      <td>1253</td>\n",
       "      <td>18022</td>\n",
       "    </tr>\n",
       "    <tr>\n",
       "      <th>1</th>\n",
       "      <td>19268</td>\n",
       "      <td>6345</td>\n",
       "      <td>12923</td>\n",
       "    </tr>\n",
       "    <tr>\n",
       "      <th>2</th>\n",
       "      <td>19433</td>\n",
       "      <td>5929</td>\n",
       "      <td>13504</td>\n",
       "    </tr>\n",
       "    <tr>\n",
       "      <th>3</th>\n",
       "      <td>19603</td>\n",
       "      <td>5705</td>\n",
       "      <td>13898</td>\n",
       "    </tr>\n",
       "    <tr>\n",
       "      <th>4</th>\n",
       "      <td>19813</td>\n",
       "      <td>5522</td>\n",
       "      <td>14291</td>\n",
       "    </tr>\n",
       "    <tr>\n",
       "      <th>5</th>\n",
       "      <td>20136</td>\n",
       "      <td>5518</td>\n",
       "      <td>14618</td>\n",
       "    </tr>\n",
       "    <tr>\n",
       "      <th>6</th>\n",
       "      <td>20532</td>\n",
       "      <td>5595</td>\n",
       "      <td>14937</td>\n",
       "    </tr>\n",
       "    <tr>\n",
       "      <th>7</th>\n",
       "      <td>21324</td>\n",
       "      <td>5680</td>\n",
       "      <td>15644</td>\n",
       "    </tr>\n",
       "    <tr>\n",
       "      <th>8</th>\n",
       "      <td>21651</td>\n",
       "      <td>5894</td>\n",
       "      <td>15757</td>\n",
       "    </tr>\n",
       "    <tr>\n",
       "      <th>9</th>\n",
       "      <td>21037</td>\n",
       "      <td>6469</td>\n",
       "      <td>14568</td>\n",
       "    </tr>\n",
       "    <tr>\n",
       "      <th>10</th>\n",
       "      <td>20089</td>\n",
       "      <td>7303</td>\n",
       "      <td>12786</td>\n",
       "    </tr>\n",
       "    <tr>\n",
       "      <th>11</th>\n",
       "      <td>19392</td>\n",
       "      <td>8072</td>\n",
       "      <td>11320</td>\n",
       "    </tr>\n",
       "    <tr>\n",
       "      <th>12</th>\n",
       "      <td>18635</td>\n",
       "      <td>8188</td>\n",
       "      <td>10447</td>\n",
       "    </tr>\n",
       "    <tr>\n",
       "      <th>13</th>\n",
       "      <td>19268</td>\n",
       "      <td>8223</td>\n",
       "      <td>11045</td>\n",
       "    </tr>\n",
       "    <tr>\n",
       "      <th>14</th>\n",
       "      <td>19664</td>\n",
       "      <td>8132</td>\n",
       "      <td>11532</td>\n",
       "    </tr>\n",
       "    <tr>\n",
       "      <th>15</th>\n",
       "      <td>19871</td>\n",
       "      <td>8016</td>\n",
       "      <td>11855</td>\n",
       "    </tr>\n",
       "    <tr>\n",
       "      <th>16</th>\n",
       "      <td>20061</td>\n",
       "      <td>7953</td>\n",
       "      <td>12108</td>\n",
       "    </tr>\n",
       "    <tr>\n",
       "      <th>17</th>\n",
       "      <td>20037</td>\n",
       "      <td>7919</td>\n",
       "      <td>12118</td>\n",
       "    </tr>\n",
       "    <tr>\n",
       "      <th>18</th>\n",
       "      <td>19649</td>\n",
       "      <td>7914</td>\n",
       "      <td>11735</td>\n",
       "    </tr>\n",
       "    <tr>\n",
       "      <th>19</th>\n",
       "      <td>19816</td>\n",
       "      <td>8014</td>\n",
       "      <td>11802</td>\n",
       "    </tr>\n",
       "    <tr>\n",
       "      <th>20</th>\n",
       "      <td>19930</td>\n",
       "      <td>7390</td>\n",
       "      <td>12540</td>\n",
       "    </tr>\n",
       "    <tr>\n",
       "      <th>21</th>\n",
       "      <td>19971</td>\n",
       "      <td>8389</td>\n",
       "      <td>11582</td>\n",
       "    </tr>\n",
       "    <tr>\n",
       "      <th>22</th>\n",
       "      <td>20588</td>\n",
       "      <td>7939</td>\n",
       "      <td>12649</td>\n",
       "    </tr>\n",
       "    <tr>\n",
       "      <th>23</th>\n",
       "      <td>19461</td>\n",
       "      <td>7424</td>\n",
       "      <td>12037</td>\n",
       "    </tr>\n",
       "  </tbody>\n",
       "</table>\n",
       "</div>"
      ],
      "text/plain": [
       "        max    min Max-Min\n",
       "     DOM_MW DOM_MW        \n",
       "Hour                      \n",
       "0     19275   1253   18022\n",
       "1     19268   6345   12923\n",
       "2     19433   5929   13504\n",
       "3     19603   5705   13898\n",
       "4     19813   5522   14291\n",
       "5     20136   5518   14618\n",
       "6     20532   5595   14937\n",
       "7     21324   5680   15644\n",
       "8     21651   5894   15757\n",
       "9     21037   6469   14568\n",
       "10    20089   7303   12786\n",
       "11    19392   8072   11320\n",
       "12    18635   8188   10447\n",
       "13    19268   8223   11045\n",
       "14    19664   8132   11532\n",
       "15    19871   8016   11855\n",
       "16    20061   7953   12108\n",
       "17    20037   7919   12118\n",
       "18    19649   7914   11735\n",
       "19    19816   8014   11802\n",
       "20    19930   7390   12540\n",
       "21    19971   8389   11582\n",
       "22    20588   7939   12649\n",
       "23    19461   7424   12037"
      ]
     },
     "execution_count": 17,
     "metadata": {},
     "output_type": "execute_result"
    }
   ],
   "source": [
    "pivotmm"
   ]
  },
  {
   "cell_type": "markdown",
   "metadata": {},
   "source": [
    "I plotted the difference between maximums and minimums at each hour."
   ]
  },
  {
   "cell_type": "code",
   "execution_count": 18,
   "metadata": {},
   "outputs": [
    {
     "data": {
      "text/plain": [
       "<matplotlib.axes._subplots.AxesSubplot at 0x2b550b488c8>"
      ]
     },
     "execution_count": 18,
     "metadata": {},
     "output_type": "execute_result"
    },
    {
     "data": {
      "image/png": "[encoded data removed]",
      "text/plain": [
       "<Figure size 432x288 with 1 Axes>"
      ]
     },
     "metadata": {
      "needs_background": "light"
     },
     "output_type": "display_data"
    }
   ],
   "source": [
    "pivotmm['Max-Min'].plot()"
   ]
  },
  {
   "cell_type": "markdown",
   "metadata": {},
   "source": [
    "What causes the range to be so wide before the 12th hour?  Is it the month of the year?\n",
    "I transformed the data to look at maximum and minimum values at the following hours: 1m 9, 12 and 19 for each month of the year.\n",
    "I plotted the maximum and minimum for each hour."
   ]
  },
  {
   "cell_type": "code",
   "execution_count": 19,
   "metadata": {},
   "outputs": [
    {
     "data": {
      "text/html": [
       "<div>\n",
       "<style scoped>\n",
       "    .dataframe tbody tr th:only-of-type {\n",
       "        vertical-align: middle;\n",
       "    }\n",
       "\n",
       "    .dataframe tbody tr th {\n",
       "        vertical-align: top;\n",
       "    }\n",
       "\n",
       "    .dataframe thead tr th {\n",
       "        text-align: left;\n",
       "    }\n",
       "\n",
       "    .dataframe thead tr:last-of-type th {\n",
       "        text-align: right;\n",
       "    }\n",
       "</style>\n",
       "<table border=\"1\" class=\"dataframe\">\n",
       "  <thead>\n",
       "    <tr>\n",
       "      <th></th>\n",
       "      <th>max</th>\n",
       "      <th>min</th>\n",
       "      <th>max</th>\n",
       "      <th>min</th>\n",
       "      <th>max</th>\n",
       "      <th>min</th>\n",
       "      <th>max</th>\n",
       "      <th>min</th>\n",
       "    </tr>\n",
       "    <tr>\n",
       "      <th>Hour</th>\n",
       "      <th>1</th>\n",
       "      <th>1</th>\n",
       "      <th>9</th>\n",
       "      <th>9</th>\n",
       "      <th>12</th>\n",
       "      <th>12</th>\n",
       "      <th>19</th>\n",
       "      <th>19</th>\n",
       "    </tr>\n",
       "    <tr>\n",
       "      <th>Month</th>\n",
       "      <th></th>\n",
       "      <th></th>\n",
       "      <th></th>\n",
       "      <th></th>\n",
       "      <th></th>\n",
       "      <th></th>\n",
       "      <th></th>\n",
       "      <th></th>\n",
       "    </tr>\n",
       "  </thead>\n",
       "  <tbody>\n",
       "    <tr>\n",
       "      <th>1</th>\n",
       "      <td>19268</td>\n",
       "      <td>7324</td>\n",
       "      <td>21037</td>\n",
       "      <td>8456</td>\n",
       "      <td>18309</td>\n",
       "      <td>8926</td>\n",
       "      <td>19816</td>\n",
       "      <td>10029</td>\n",
       "    </tr>\n",
       "    <tr>\n",
       "      <th>2</th>\n",
       "      <td>18639</td>\n",
       "      <td>7441</td>\n",
       "      <td>20860</td>\n",
       "      <td>8677</td>\n",
       "      <td>18635</td>\n",
       "      <td>8691</td>\n",
       "      <td>19398</td>\n",
       "      <td>9750</td>\n",
       "    </tr>\n",
       "    <tr>\n",
       "      <th>3</th>\n",
       "      <td>15204</td>\n",
       "      <td>7059</td>\n",
       "      <td>17255</td>\n",
       "      <td>7652</td>\n",
       "      <td>15516</td>\n",
       "      <td>8590</td>\n",
       "      <td>16973</td>\n",
       "      <td>8515</td>\n",
       "    </tr>\n",
       "    <tr>\n",
       "      <th>4</th>\n",
       "      <td>10863</td>\n",
       "      <td>6782</td>\n",
       "      <td>12715</td>\n",
       "      <td>7597</td>\n",
       "      <td>12442</td>\n",
       "      <td>8283</td>\n",
       "      <td>14434</td>\n",
       "      <td>8014</td>\n",
       "    </tr>\n",
       "    <tr>\n",
       "      <th>5</th>\n",
       "      <td>10953</td>\n",
       "      <td>6772</td>\n",
       "      <td>13035</td>\n",
       "      <td>7631</td>\n",
       "      <td>16124</td>\n",
       "      <td>8312</td>\n",
       "      <td>17160</td>\n",
       "      <td>8205</td>\n",
       "    </tr>\n",
       "    <tr>\n",
       "      <th>6</th>\n",
       "      <td>12841</td>\n",
       "      <td>7467</td>\n",
       "      <td>14168</td>\n",
       "      <td>8011</td>\n",
       "      <td>17349</td>\n",
       "      <td>9339</td>\n",
       "      <td>19002</td>\n",
       "      <td>9270</td>\n",
       "    </tr>\n",
       "    <tr>\n",
       "      <th>7</th>\n",
       "      <td>14235</td>\n",
       "      <td>8017</td>\n",
       "      <td>14677</td>\n",
       "      <td>8526</td>\n",
       "      <td>18516</td>\n",
       "      <td>9874</td>\n",
       "      <td>19352</td>\n",
       "      <td>9846</td>\n",
       "    </tr>\n",
       "    <tr>\n",
       "      <th>8</th>\n",
       "      <td>14103</td>\n",
       "      <td>6345</td>\n",
       "      <td>14660</td>\n",
       "      <td>6469</td>\n",
       "      <td>17942</td>\n",
       "      <td>8725</td>\n",
       "      <td>19261</td>\n",
       "      <td>8760</td>\n",
       "    </tr>\n",
       "    <tr>\n",
       "      <th>9</th>\n",
       "      <td>11748</td>\n",
       "      <td>7124</td>\n",
       "      <td>12888</td>\n",
       "      <td>7822</td>\n",
       "      <td>16188</td>\n",
       "      <td>8808</td>\n",
       "      <td>17566</td>\n",
       "      <td>8846</td>\n",
       "    </tr>\n",
       "    <tr>\n",
       "      <th>10</th>\n",
       "      <td>10287</td>\n",
       "      <td>6914</td>\n",
       "      <td>12445</td>\n",
       "      <td>7441</td>\n",
       "      <td>13488</td>\n",
       "      <td>8188</td>\n",
       "      <td>15241</td>\n",
       "      <td>8857</td>\n",
       "    </tr>\n",
       "    <tr>\n",
       "      <th>11</th>\n",
       "      <td>12946</td>\n",
       "      <td>6940</td>\n",
       "      <td>15390</td>\n",
       "      <td>7835</td>\n",
       "      <td>13332</td>\n",
       "      <td>8599</td>\n",
       "      <td>14867</td>\n",
       "      <td>8841</td>\n",
       "    </tr>\n",
       "    <tr>\n",
       "      <th>12</th>\n",
       "      <td>15687</td>\n",
       "      <td>7436</td>\n",
       "      <td>17790</td>\n",
       "      <td>8074</td>\n",
       "      <td>16069</td>\n",
       "      <td>8724</td>\n",
       "      <td>17740</td>\n",
       "      <td>9892</td>\n",
       "    </tr>\n",
       "  </tbody>\n",
       "</table>\n",
       "</div>"
      ],
      "text/plain": [
       "         max   min    max   min    max   min    max    min\n",
       "Hour      1     1      9     9      12    12     19     19\n",
       "Month                                                     \n",
       "1      19268  7324  21037  8456  18309  8926  19816  10029\n",
       "2      18639  7441  20860  8677  18635  8691  19398   9750\n",
       "3      15204  7059  17255  7652  15516  8590  16973   8515\n",
       "4      10863  6782  12715  7597  12442  8283  14434   8014\n",
       "5      10953  6772  13035  7631  16124  8312  17160   8205\n",
       "6      12841  7467  14168  8011  17349  9339  19002   9270\n",
       "7      14235  8017  14677  8526  18516  9874  19352   9846\n",
       "8      14103  6345  14660  6469  17942  8725  19261   8760\n",
       "9      11748  7124  12888  7822  16188  8808  17566   8846\n",
       "10     10287  6914  12445  7441  13488  8188  15241   8857\n",
       "11     12946  6940  15390  7835  13332  8599  14867   8841\n",
       "12     15687  7436  17790  8074  16069  8724  17740   9892"
      ]
     },
     "execution_count": 19,
     "metadata": {},
     "output_type": "execute_result"
    }
   ],
   "source": [
    "pivty1 = pd.pivot_table(data = df[df['Hour']==1], index='Month', values='DOM_MW', aggfunc=['max','min'],columns='Hour')\n",
    "pivty9 = pd.pivot_table(data = df[df['Hour']==9], index='Month', values='DOM_MW', aggfunc=['max','min'],columns='Hour')\n",
    "pivty12 = pd.pivot_table(data = df[df['Hour']==12], index='Month', values='DOM_MW', aggfunc=['max','min'],columns='Hour')\n",
    "pivty19 = pd.pivot_table(data = df[df['Hour']==19], index='Month', values='DOM_MW', aggfunc=['max','min'],columns='Hour')\n",
    "\n",
    "pm = pd.concat([pivty1, pivty9, pivty12, pivty19], axis=1)\n",
    "pm"
   ]
  },
  {
   "cell_type": "code",
   "execution_count": 20,
   "metadata": {},
   "outputs": [],
   "source": [
    "pm['1dif'] = pm.iloc[:,0] - pm.iloc[:,1]\n",
    "pm['9dif'] = pm.iloc[:,2] - pm.iloc[:,3]\n",
    "pm['12dif'] = pm.iloc[:,4] - pm.iloc[:,5]\n",
    "pm['19dif'] = pm.iloc[:,6] - pm.iloc[:,7]"
   ]
  },
  {
   "cell_type": "code",
   "execution_count": 21,
   "metadata": {},
   "outputs": [
    {
     "data": {
      "text/html": [
       "<div>\n",
       "<style scoped>\n",
       "    .dataframe tbody tr th:only-of-type {\n",
       "        vertical-align: middle;\n",
       "    }\n",
       "\n",
       "    .dataframe tbody tr th {\n",
       "        vertical-align: top;\n",
       "    }\n",
       "\n",
       "    .dataframe thead tr th {\n",
       "        text-align: left;\n",
       "    }\n",
       "\n",
       "    .dataframe thead tr:last-of-type th {\n",
       "        text-align: right;\n",
       "    }\n",
       "</style>\n",
       "<table border=\"1\" class=\"dataframe\">\n",
       "  <thead>\n",
       "    <tr>\n",
       "      <th></th>\n",
       "      <th>max</th>\n",
       "      <th>min</th>\n",
       "      <th>max</th>\n",
       "      <th>min</th>\n",
       "      <th>max</th>\n",
       "      <th>min</th>\n",
       "      <th>max</th>\n",
       "      <th>min</th>\n",
       "      <th>1dif</th>\n",
       "      <th>9dif</th>\n",
       "      <th>12dif</th>\n",
       "      <th>19dif</th>\n",
       "    </tr>\n",
       "    <tr>\n",
       "      <th>Hour</th>\n",
       "      <th>1</th>\n",
       "      <th>1</th>\n",
       "      <th>9</th>\n",
       "      <th>9</th>\n",
       "      <th>12</th>\n",
       "      <th>12</th>\n",
       "      <th>19</th>\n",
       "      <th>19</th>\n",
       "      <th></th>\n",
       "      <th></th>\n",
       "      <th></th>\n",
       "      <th></th>\n",
       "    </tr>\n",
       "    <tr>\n",
       "      <th>Month</th>\n",
       "      <th></th>\n",
       "      <th></th>\n",
       "      <th></th>\n",
       "      <th></th>\n",
       "      <th></th>\n",
       "      <th></th>\n",
       "      <th></th>\n",
       "      <th></th>\n",
       "      <th></th>\n",
       "      <th></th>\n",
       "      <th></th>\n",
       "      <th></th>\n",
       "    </tr>\n",
       "  </thead>\n",
       "  <tbody>\n",
       "    <tr>\n",
       "      <th>1</th>\n",
       "      <td>19268</td>\n",
       "      <td>7324</td>\n",
       "      <td>21037</td>\n",
       "      <td>8456</td>\n",
       "      <td>18309</td>\n",
       "      <td>8926</td>\n",
       "      <td>19816</td>\n",
       "      <td>10029</td>\n",
       "      <td>11944</td>\n",
       "      <td>12581</td>\n",
       "      <td>9383</td>\n",
       "      <td>9787</td>\n",
       "    </tr>\n",
       "    <tr>\n",
       "      <th>2</th>\n",
       "      <td>18639</td>\n",
       "      <td>7441</td>\n",
       "      <td>20860</td>\n",
       "      <td>8677</td>\n",
       "      <td>18635</td>\n",
       "      <td>8691</td>\n",
       "      <td>19398</td>\n",
       "      <td>9750</td>\n",
       "      <td>11198</td>\n",
       "      <td>12183</td>\n",
       "      <td>9944</td>\n",
       "      <td>9648</td>\n",
       "    </tr>\n",
       "    <tr>\n",
       "      <th>3</th>\n",
       "      <td>15204</td>\n",
       "      <td>7059</td>\n",
       "      <td>17255</td>\n",
       "      <td>7652</td>\n",
       "      <td>15516</td>\n",
       "      <td>8590</td>\n",
       "      <td>16973</td>\n",
       "      <td>8515</td>\n",
       "      <td>8145</td>\n",
       "      <td>9603</td>\n",
       "      <td>6926</td>\n",
       "      <td>8458</td>\n",
       "    </tr>\n",
       "    <tr>\n",
       "      <th>4</th>\n",
       "      <td>10863</td>\n",
       "      <td>6782</td>\n",
       "      <td>12715</td>\n",
       "      <td>7597</td>\n",
       "      <td>12442</td>\n",
       "      <td>8283</td>\n",
       "      <td>14434</td>\n",
       "      <td>8014</td>\n",
       "      <td>4081</td>\n",
       "      <td>5118</td>\n",
       "      <td>4159</td>\n",
       "      <td>6420</td>\n",
       "    </tr>\n",
       "    <tr>\n",
       "      <th>5</th>\n",
       "      <td>10953</td>\n",
       "      <td>6772</td>\n",
       "      <td>13035</td>\n",
       "      <td>7631</td>\n",
       "      <td>16124</td>\n",
       "      <td>8312</td>\n",
       "      <td>17160</td>\n",
       "      <td>8205</td>\n",
       "      <td>4181</td>\n",
       "      <td>5404</td>\n",
       "      <td>7812</td>\n",
       "      <td>8955</td>\n",
       "    </tr>\n",
       "    <tr>\n",
       "      <th>6</th>\n",
       "      <td>12841</td>\n",
       "      <td>7467</td>\n",
       "      <td>14168</td>\n",
       "      <td>8011</td>\n",
       "      <td>17349</td>\n",
       "      <td>9339</td>\n",
       "      <td>19002</td>\n",
       "      <td>9270</td>\n",
       "      <td>5374</td>\n",
       "      <td>6157</td>\n",
       "      <td>8010</td>\n",
       "      <td>9732</td>\n",
       "    </tr>\n",
       "    <tr>\n",
       "      <th>7</th>\n",
       "      <td>14235</td>\n",
       "      <td>8017</td>\n",
       "      <td>14677</td>\n",
       "      <td>8526</td>\n",
       "      <td>18516</td>\n",
       "      <td>9874</td>\n",
       "      <td>19352</td>\n",
       "      <td>9846</td>\n",
       "      <td>6218</td>\n",
       "      <td>6151</td>\n",
       "      <td>8642</td>\n",
       "      <td>9506</td>\n",
       "    </tr>\n",
       "    <tr>\n",
       "      <th>8</th>\n",
       "      <td>14103</td>\n",
       "      <td>6345</td>\n",
       "      <td>14660</td>\n",
       "      <td>6469</td>\n",
       "      <td>17942</td>\n",
       "      <td>8725</td>\n",
       "      <td>19261</td>\n",
       "      <td>8760</td>\n",
       "      <td>7758</td>\n",
       "      <td>8191</td>\n",
       "      <td>9217</td>\n",
       "      <td>10501</td>\n",
       "    </tr>\n",
       "    <tr>\n",
       "      <th>9</th>\n",
       "      <td>11748</td>\n",
       "      <td>7124</td>\n",
       "      <td>12888</td>\n",
       "      <td>7822</td>\n",
       "      <td>16188</td>\n",
       "      <td>8808</td>\n",
       "      <td>17566</td>\n",
       "      <td>8846</td>\n",
       "      <td>4624</td>\n",
       "      <td>5066</td>\n",
       "      <td>7380</td>\n",
       "      <td>8720</td>\n",
       "    </tr>\n",
       "    <tr>\n",
       "      <th>10</th>\n",
       "      <td>10287</td>\n",
       "      <td>6914</td>\n",
       "      <td>12445</td>\n",
       "      <td>7441</td>\n",
       "      <td>13488</td>\n",
       "      <td>8188</td>\n",
       "      <td>15241</td>\n",
       "      <td>8857</td>\n",
       "      <td>3373</td>\n",
       "      <td>5004</td>\n",
       "      <td>5300</td>\n",
       "      <td>6384</td>\n",
       "    </tr>\n",
       "    <tr>\n",
       "      <th>11</th>\n",
       "      <td>12946</td>\n",
       "      <td>6940</td>\n",
       "      <td>15390</td>\n",
       "      <td>7835</td>\n",
       "      <td>13332</td>\n",
       "      <td>8599</td>\n",
       "      <td>14867</td>\n",
       "      <td>8841</td>\n",
       "      <td>6006</td>\n",
       "      <td>7555</td>\n",
       "      <td>4733</td>\n",
       "      <td>6026</td>\n",
       "    </tr>\n",
       "    <tr>\n",
       "      <th>12</th>\n",
       "      <td>15687</td>\n",
       "      <td>7436</td>\n",
       "      <td>17790</td>\n",
       "      <td>8074</td>\n",
       "      <td>16069</td>\n",
       "      <td>8724</td>\n",
       "      <td>17740</td>\n",
       "      <td>9892</td>\n",
       "      <td>8251</td>\n",
       "      <td>9716</td>\n",
       "      <td>7345</td>\n",
       "      <td>7848</td>\n",
       "    </tr>\n",
       "  </tbody>\n",
       "</table>\n",
       "</div>"
      ],
      "text/plain": [
       "         max   min    max   min    max   min    max    min   1dif   9dif  \\\n",
       "Hour       1     1      9     9     12    12     19     19                 \n",
       "Month                                                                      \n",
       "1      19268  7324  21037  8456  18309  8926  19816  10029  11944  12581   \n",
       "2      18639  7441  20860  8677  18635  8691  19398   9750  11198  12183   \n",
       "3      15204  7059  17255  7652  15516  8590  16973   8515   8145   9603   \n",
       "4      10863  6782  12715  7597  12442  8283  14434   8014   4081   5118   \n",
       "5      10953  6772  13035  7631  16124  8312  17160   8205   4181   5404   \n",
       "6      12841  7467  14168  8011  17349  9339  19002   9270   5374   6157   \n",
       "7      14235  8017  14677  8526  18516  9874  19352   9846   6218   6151   \n",
       "8      14103  6345  14660  6469  17942  8725  19261   8760   7758   8191   \n",
       "9      11748  7124  12888  7822  16188  8808  17566   8846   4624   5066   \n",
       "10     10287  6914  12445  7441  13488  8188  15241   8857   3373   5004   \n",
       "11     12946  6940  15390  7835  13332  8599  14867   8841   6006   7555   \n",
       "12     15687  7436  17790  8074  16069  8724  17740   9892   8251   9716   \n",
       "\n",
       "      12dif  19dif  \n",
       "Hour                \n",
       "Month               \n",
       "1      9383   9787  \n",
       "2      9944   9648  \n",
       "3      6926   8458  \n",
       "4      4159   6420  \n",
       "5      7812   8955  \n",
       "6      8010   9732  \n",
       "7      8642   9506  \n",
       "8      9217  10501  \n",
       "9      7380   8720  \n",
       "10     5300   6384  \n",
       "11     4733   6026  \n",
       "12     7345   7848  "
      ]
     },
     "execution_count": 21,
     "metadata": {},
     "output_type": "execute_result"
    }
   ],
   "source": [
    "pm"
   ]
  },
  {
   "cell_type": "code",
   "execution_count": 22,
   "metadata": {},
   "outputs": [
    {
     "data": {
      "text/plain": [
       "<matplotlib.axes._subplots.AxesSubplot at 0x2b550d7a848>"
      ]
     },
     "execution_count": 22,
     "metadata": {},
     "output_type": "execute_result"
    },
    {
     "data": {
      "image/png": "[encoded data removed]",
      "text/plain": [
       "<Figure size 432x288 with 1 Axes>"
      ]
     },
     "metadata": {
      "needs_background": "light"
     },
     "output_type": "display_data"
    },
    {
     "data": {
      "image/png": "[encoded data removed]",
      "text/plain": [
       "<Figure size 432x288 with 1 Axes>"
      ]
     },
     "metadata": {
      "needs_background": "light"
     },
     "output_type": "display_data"
    },
    {
     "data": {
      "image/png": "[encoded data removed]",
      "text/plain": [
       "<Figure size 432x288 with 1 Axes>"
      ]
     },
     "metadata": {
      "needs_background": "light"
     },
     "output_type": "display_data"
    },
    {
     "data": {
      "image/png": "[encoded data removed]",
      "text/plain": [
       "<Figure size 432x288 with 1 Axes>"
      ]
     },
     "metadata": {
      "needs_background": "light"
     },
     "output_type": "display_data"
    }
   ],
   "source": [
    "pm.iloc[:,0:2].plot()\n",
    "pm.iloc[:,2:4].plot()\n",
    "pm.iloc[:,4:6].plot()\n",
    "pm.iloc[:,6:8].plot()"
   ]
  },
  {
   "cell_type": "markdown",
   "metadata": {},
   "source": [
    "The minimum values do not vary nearly as wildly as the maximum.\n",
    "I suspect this is due to Heating/Cooling. Over the course of the year, I hypothesize that the minimum represents times when HVAC units are not working, which can happen at any time of the day in any month.\n",
    "The most intense peaks in the early morning occur during winter months. I would guess these are the extreme cold nights.\n",
    "At the 12th and 19th hours, there are equally high peaks in winter and in summer."
   ]
  },
  {
   "cell_type": "markdown",
   "metadata": {},
   "source": [
    "Is any of this changing over time? I charted the Maximum, Minimum and Mean at each hour time over the entire period by indexing on years."
   ]
  },
  {
   "cell_type": "code",
   "execution_count": 23,
   "metadata": {},
   "outputs": [
    {
     "data": {
      "text/plain": [
       "<matplotlib.axes._subplots.AxesSubplot at 0x2b550f85c48>"
      ]
     },
     "execution_count": 23,
     "metadata": {},
     "output_type": "execute_result"
    },
    {
     "data": {
      "image/png": "[encoded data removed]",
      "text/plain": [
       "<Figure size 432x288 with 1 Axes>"
      ]
     },
     "metadata": {
      "needs_background": "light"
     },
     "output_type": "display_data"
    },
    {
     "data": {
      "image/png": "[encoded data removed]",
      "text/plain": [
       "<Figure size 432x288 with 1 Axes>"
      ]
     },
     "metadata": {
      "needs_background": "light"
     },
     "output_type": "display_data"
    },
    {
     "data": {
      "image/png": "[encoded data removed]",
      "text/plain": [
       "<Figure size 432x288 with 1 Axes>"
      ]
     },
     "metadata": {
      "needs_background": "light"
     },
     "output_type": "display_data"
    },
    {
     "data": {
      "image/png": "[encoded data removed]",
      "text/plain": [
       "<Figure size 432x288 with 1 Axes>"
      ]
     },
     "metadata": {
      "needs_background": "light"
     },
     "output_type": "display_data"
    }
   ],
   "source": [
    "pivy1 = pd.pivot_table(data = df[df['Hour']==1], index='Year', values='DOM_MW', aggfunc=['max','min','mean'],columns='Hour')\n",
    "pivy9 = pd.pivot_table(data = df[df['Hour']==9], index='Year', values='DOM_MW', aggfunc=['max','min','mean'],columns='Hour')\n",
    "pivy12 = pd.pivot_table(data = df[df['Hour']==12], index='Year', values='DOM_MW', aggfunc=['max','min','mean'],columns='Hour')\n",
    "pivy19 = pd.pivot_table(data = df[df['Hour']==19], index='Year', values='DOM_MW', aggfunc=['max','min','mean'],columns='Hour')\n",
    "\n",
    "py = pd.concat([pivy1, pivy9, pivy12, pivy19], axis=1)\n",
    "py.iloc[:,0:3].plot()\n",
    "py.iloc[:,3:6].plot()\n",
    "py.iloc[:,6:9].plot()\n",
    "py.iloc[:,9:].plot()"
   ]
  },
  {
   "cell_type": "markdown",
   "metadata": {},
   "source": [
    "It appears that the maximum values for hours 1 and 9 are increasing, whereas the maximum values for hours 12 and 19 are not. \n",
    "Maximums at those times appear to be driven by extreme winter events.\n",
    "I hypothesize that peak usage is caused by extreme cold snaps that are increasing over time."
   ]
  }
 ],
 "metadata": {
  "kernelspec": {
   "display_name": "Python 3",
   "language": "python",
   "name": "python3"
  },
  "language_info": {
   "codemirror_mode": {
    "name": "ipython",
    "version": 3
   },
   "file_extension": ".py",
   "mimetype": "text/x-python",
   "name": "python",
   "nbconvert_exporter": "python",
   "pygments_lexer": "ipython3",
   "version": "3.7.6"
  }
 },
 "nbformat": 4,
 "nbformat_minor": 4
}
